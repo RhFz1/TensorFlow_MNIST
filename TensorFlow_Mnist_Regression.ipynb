{
  "nbformat": 4,
  "nbformat_minor": 0,
  "metadata": {
    "colab": {
      "provenance": []
    },
    "kernelspec": {
      "name": "python3",
      "display_name": "Python 3"
    },
    "language_info": {
      "name": "python"
    },
    "accelerator": "GPU",
    "gpuClass": "standard"
  },
  "cells": [
    {
      "cell_type": "markdown",
      "source": [
        "## **Importing the required libraries** "
      ],
      "metadata": {
        "id": "me2PF2paIGTd"
      }
    },
    {
      "cell_type": "code",
      "execution_count": 2,
      "metadata": {
        "id": "_vlq-NIKHl2Q"
      },
      "outputs": [],
      "source": [
        "import tensorflow as tf\n",
        "import pandas as pd\n",
        "import numpy as np\n",
        "import matplotlib.pyplot as plt\n",
        "import seaborn as sns"
      ]
    },
    {
      "cell_type": "markdown",
      "source": [
        "## Importing the dataset"
      ],
      "metadata": {
        "id": "UjwcTubxI6RX"
      }
    },
    {
      "cell_type": "code",
      "source": [
        "df_mnist = tf.keras.datasets.mnist"
      ],
      "metadata": {
        "id": "W8ZaR3MWIsDz"
      },
      "execution_count": 3,
      "outputs": []
    },
    {
      "cell_type": "markdown",
      "source": [
        "## **Loading the data and splitting the data into Train , Test**"
      ],
      "metadata": {
        "id": "ldy5fYXaJ83a"
      }
    },
    {
      "cell_type": "code",
      "source": [
        "(X_train , y_train),(X_test , y_test) = df_mnist.load_data()"
      ],
      "metadata": {
        "colab": {
          "base_uri": "https://localhost:8080/"
        },
        "id": "7wtG8qWzJQZc",
        "outputId": "2bd689ae-8f89-48d4-bc60-aec91a46ad04"
      },
      "execution_count": 4,
      "outputs": [
        {
          "output_type": "stream",
          "name": "stdout",
          "text": [
            "Downloading data from https://storage.googleapis.com/tensorflow/tf-keras-datasets/mnist.npz\n",
            "11493376/11490434 [==============================] - 0s 0us/step\n",
            "11501568/11490434 [==============================] - 0s 0us/step\n"
          ]
        }
      ]
    },
    {
      "cell_type": "code",
      "source": [
        "X_train , X_test = X_train / 255 ,X_test / 255 "
      ],
      "metadata": {
        "id": "P6mvT2avJiu8"
      },
      "execution_count": 5,
      "outputs": []
    },
    {
      "cell_type": "code",
      "source": [
        "X_train.shape"
      ],
      "metadata": {
        "colab": {
          "base_uri": "https://localhost:8080/"
        },
        "id": "DFedAohTJian",
        "outputId": "6c3fd462-5aaa-42f9-8ef9-18776cd4c0b9"
      },
      "execution_count": 6,
      "outputs": [
        {
          "output_type": "execute_result",
          "data": {
            "text/plain": [
              "(60000, 28, 28)"
            ]
          },
          "metadata": {},
          "execution_count": 6
        }
      ]
    },
    {
      "cell_type": "markdown",
      "source": [
        "## **Building the Model**"
      ],
      "metadata": {
        "id": "o_AsLbjzKH1o"
      }
    },
    {
      "cell_type": "code",
      "source": [
        "model = tf.keras.models.Sequential([\n",
        "    tf.keras.layers.Flatten(input_shape = (28 , 28)),\n",
        "    tf.keras.layers.Dense(128 , activation = \"relu\"),\n",
        "    tf.keras.layers.Dropout(0.2),\n",
        "    tf.keras.layers.Dense(10 , activation = 'softmax')\n",
        "])"
      ],
      "metadata": {
        "id": "w2y5Q-ZCJ7SF"
      },
      "execution_count": 7,
      "outputs": []
    },
    {
      "cell_type": "markdown",
      "source": [
        "## **Compiling the Model**"
      ],
      "metadata": {
        "id": "rErTl3k8KrgX"
      }
    },
    {
      "cell_type": "code",
      "source": [
        "model.compile(optimizer = 'adam',\n",
        "              loss = \"sparse_categorical_crossentropy\",\n",
        "              metrics = ['accuracy'])"
      ],
      "metadata": {
        "id": "h7QkGPUvKq2k"
      },
      "execution_count": 8,
      "outputs": []
    },
    {
      "cell_type": "markdown",
      "source": [
        "## **Fitting the training data on our model**"
      ],
      "metadata": {
        "id": "xrBCcsRALCAP"
      }
    },
    {
      "cell_type": "code",
      "source": [
        "r = model.fit(X_train , y_train ,validation_data= (X_test , y_test) , epochs = 10)"
      ],
      "metadata": {
        "colab": {
          "base_uri": "https://localhost:8080/"
        },
        "id": "_mWJH93HLBkt",
        "outputId": "08e11c84-0b0d-4693-b269-baad9ae493b8"
      },
      "execution_count": 9,
      "outputs": [
        {
          "output_type": "stream",
          "name": "stdout",
          "text": [
            "Epoch 1/10\n",
            "1875/1875 [==============================] - 12s 5ms/step - loss: 0.2982 - accuracy: 0.9134 - val_loss: 0.1413 - val_accuracy: 0.9578\n",
            "Epoch 2/10\n",
            "1875/1875 [==============================] - 6s 3ms/step - loss: 0.1438 - accuracy: 0.9579 - val_loss: 0.0975 - val_accuracy: 0.9703\n",
            "Epoch 3/10\n",
            "1875/1875 [==============================] - 5s 3ms/step - loss: 0.1035 - accuracy: 0.9682 - val_loss: 0.0843 - val_accuracy: 0.9747\n",
            "Epoch 4/10\n",
            "1875/1875 [==============================] - 5s 2ms/step - loss: 0.0839 - accuracy: 0.9744 - val_loss: 0.0745 - val_accuracy: 0.9770\n",
            "Epoch 5/10\n",
            "1875/1875 [==============================] - 5s 2ms/step - loss: 0.0739 - accuracy: 0.9765 - val_loss: 0.0704 - val_accuracy: 0.9784\n",
            "Epoch 6/10\n",
            "1875/1875 [==============================] - 5s 3ms/step - loss: 0.0640 - accuracy: 0.9794 - val_loss: 0.0748 - val_accuracy: 0.9774\n",
            "Epoch 7/10\n",
            "1875/1875 [==============================] - 5s 3ms/step - loss: 0.0565 - accuracy: 0.9818 - val_loss: 0.0689 - val_accuracy: 0.9783\n",
            "Epoch 8/10\n",
            "1875/1875 [==============================] - 5s 3ms/step - loss: 0.0521 - accuracy: 0.9832 - val_loss: 0.0658 - val_accuracy: 0.9809\n",
            "Epoch 9/10\n",
            "1875/1875 [==============================] - 5s 3ms/step - loss: 0.0480 - accuracy: 0.9837 - val_loss: 0.0682 - val_accuracy: 0.9805\n",
            "Epoch 10/10\n",
            "1875/1875 [==============================] - 5s 2ms/step - loss: 0.0431 - accuracy: 0.9855 - val_loss: 0.0713 - val_accuracy: 0.9798\n"
          ]
        }
      ]
    },
    {
      "cell_type": "code",
      "source": [
        "pred = model.predict(X_test)"
      ],
      "metadata": {
        "id": "EX5a7k6JPlL9"
      },
      "execution_count": 10,
      "outputs": []
    },
    {
      "cell_type": "markdown",
      "source": [
        "## **Plotting the loss per iteration**"
      ],
      "metadata": {
        "id": "046kBGxIM-Ds"
      }
    },
    {
      "cell_type": "code",
      "source": [
        "plt.plot(r.history['loss'] , label ='loss')\n",
        "plt.plot(r.history['val_loss'] , label ='val_loss')\n",
        "plt.legend()"
      ],
      "metadata": {
        "colab": {
          "base_uri": "https://localhost:8080/",
          "height": 282
        },
        "id": "aP8sSgx-M5xM",
        "outputId": "b5af5a16-9dfb-476e-ebaa-398d4225cefe"
      },
      "execution_count": 11,
      "outputs": [
        {
          "output_type": "execute_result",
          "data": {
            "text/plain": [
              "<matplotlib.legend.Legend at 0x7fd9a2224690>"
            ]
          },
          "metadata": {},
          "execution_count": 11
        },
        {
          "output_type": "display_data",
          "data": {
            "text/plain": [
              "<Figure size 432x288 with 1 Axes>"
            ],
            "image/png": "[encoded data removed]"
          },
          "metadata": {
            "needs_background": "light"
          }
        }
      ]
    },
    {
      "cell_type": "markdown",
      "source": [
        "# **Plotting accuracy per iteration**"
      ],
      "metadata": {
        "id": "Woln8QMMN3EV"
      }
    },
    {
      "cell_type": "code",
      "source": [
        "plt.plot(r.history['accuracy'] , label ='accr')\n",
        "plt.plot(r.history['val_accuracy'] , label ='val_accr')\n",
        "plt.legend()"
      ],
      "metadata": {
        "colab": {
          "base_uri": "https://localhost:8080/",
          "height": 282
        },
        "id": "DQYTzdpGN99U",
        "outputId": "87ac822f-4c4b-448a-af45-be44ffa3ebaa"
      },
      "execution_count": 12,
      "outputs": [
        {
          "output_type": "execute_result",
          "data": {
            "text/plain": [
              "<matplotlib.legend.Legend at 0x7fd98dbcb2d0>"
            ]
          },
          "metadata": {},
          "execution_count": 12
        },
        {
          "output_type": "display_data",
          "data": {
            "text/plain": [
              "<Figure size 432x288 with 1 Axes>"
            ],
            "image/png": "[encoded data removed]"
          },
          "metadata": {
            "needs_background": "light"
          }
        }
      ]
    },
    {
      "cell_type": "markdown",
      "source": [
        "# **Checking misclassified examples**"
      ],
      "metadata": {
        "id": "jzosU_Q7OZr8"
      }
    },
    {
      "cell_type": "code",
      "source": [
        "pred.argmax(axis = 1)"
      ],
      "metadata": {
        "colab": {
          "base_uri": "https://localhost:8080/"
        },
        "id": "j_D7bi4TiUhH",
        "outputId": "40cd4682-f258-47a1-8378-75088a1532d6"
      },
      "execution_count": 19,
      "outputs": [
        {
          "output_type": "execute_result",
          "data": {
            "text/plain": [
              "array([3.60908370e-09, 5.97137273e-09, 3.15569253e-07, 8.50021570e-06,\n",
              "       9.45429546e-15, 1.67347947e-09, 2.86925702e-13, 9.99990225e-01,\n",
              "       1.15904655e-08, 9.29545536e-07], dtype=float32)"
            ]
          },
          "metadata": {},
          "execution_count": 19
        }
      ]
    },
    {
      "cell_type": "code",
      "source": [
        "misclassified_eg = np.where(pred.argmax(axis = 1) != y_test)[0]\n",
        "i = np.random.choice(misclassified_eg)\n",
        "plt.imshow(X_test[i] , cmap = \"gray\")\n",
        "plt.title(f\"True label : {y_test[i]} and predicted label is: {pred.argmax(axis = 1)[i]}\")"
      ],
      "metadata": {
        "colab": {
          "base_uri": "https://localhost:8080/",
          "height": 298
        },
        "id": "eZZS9gnkOHyY",
        "outputId": "26e66c84-2e32-4628-ec87-2b658b3d7e1e"
      },
      "execution_count": 36,
      "outputs": [
        {
          "output_type": "execute_result",
          "data": {
            "text/plain": [
              "Text(0.5, 1.0, 'True label : 5 and predicted label is: 4')"
            ]
          },
          "metadata": {},
          "execution_count": 36
        },
        {
          "output_type": "display_data",
          "data": {
            "text/plain": [
              "<Figure size 432x288 with 1 Axes>"
            ],
            "image/png": "[encoded data removed]"
          },
          "metadata": {
            "needs_background": "light"
          }
        }
      ]
    }
  ]
}